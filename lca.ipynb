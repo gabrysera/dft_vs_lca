{
 "cells": [
  {
   "cell_type": "code",
   "execution_count": 1,
   "metadata": {},
   "outputs": [
    {
     "name": "stdout",
     "output_type": "stream",
     "text": [
      "Cloning into 'pylca'...\n",
      "remote: Enumerating objects: 166, done.\u001b[K\n",
      "remote: Total 166 (delta 0), reused 0 (delta 0), pack-reused 166\u001b[K\n",
      "Receiving objects: 100% (166/166), 616.84 KiB | 4.71 MiB/s, done.\n",
      "Resolving deltas: 100% (85/85), done.\n",
      "Collecting pylca\n",
      "\u001b[33m  Cache entry deserialization failed, entry ignored\u001b[0m\n",
      "\u001b[31mException:\n",
      "Traceback (most recent call last):\n",
      "  File \"/home/gabriele/anaconda3/lib/python3.7/site-packages/pip/_internal/basecommand.py\", line 228, in main\n",
      "    status = self.run(options, args)\n",
      "  File \"/home/gabriele/anaconda3/lib/python3.7/site-packages/pip/_internal/commands/install.py\", line 291, in run\n",
      "    resolver.resolve(requirement_set)\n",
      "  File \"/home/gabriele/anaconda3/lib/python3.7/site-packages/pip/_internal/resolve.py\", line 103, in resolve\n",
      "    self._resolve_one(requirement_set, req)\n",
      "  File \"/home/gabriele/anaconda3/lib/python3.7/site-packages/pip/_internal/resolve.py\", line 257, in _resolve_one\n",
      "    abstract_dist = self._get_abstract_dist_for(req_to_install)\n",
      "  File \"/home/gabriele/anaconda3/lib/python3.7/site-packages/pip/_internal/resolve.py\", line 210, in _get_abstract_dist_for\n",
      "    self.require_hashes\n",
      "  File \"/home/gabriele/anaconda3/lib/python3.7/site-packages/pip/_internal/operations/prepare.py\", line 245, in prepare_linked_requirement\n",
      "    req.populate_link(finder, upgrade_allowed, require_hashes)\n",
      "  File \"/home/gabriele/anaconda3/lib/python3.7/site-packages/pip/_internal/req/req_install.py\", line 307, in populate_link\n",
      "    self.link = finder.find_requirement(self, upgrade)\n",
      "  File \"/home/gabriele/anaconda3/lib/python3.7/site-packages/pip/_internal/index.py\", line 484, in find_requirement\n",
      "    all_candidates = self.find_all_candidates(req.name)\n",
      "  File \"/home/gabriele/anaconda3/lib/python3.7/site-packages/pip/_internal/index.py\", line 442, in find_all_candidates\n",
      "    for page in self._get_pages(url_locations, project_name):\n",
      "  File \"/home/gabriele/anaconda3/lib/python3.7/site-packages/pip/_internal/index.py\", line 587, in _get_pages\n",
      "    page = self._get_page(location)\n",
      "  File \"/home/gabriele/anaconda3/lib/python3.7/site-packages/pip/_internal/index.py\", line 705, in _get_page\n",
      "    return HTMLPage.get_page(link, session=self.session)\n",
      "  File \"/home/gabriele/anaconda3/lib/python3.7/site-packages/pip/_internal/index.py\", line 814, in get_page\n",
      "    \"Cache-Control\": \"max-age=600\",\n",
      "  File \"/home/gabriele/anaconda3/lib/python3.7/site-packages/pip/_vendor/requests/sessions.py\", line 521, in get\n",
      "    return self.request('GET', url, **kwargs)\n",
      "  File \"/home/gabriele/anaconda3/lib/python3.7/site-packages/pip/_internal/download.py\", line 397, in request\n",
      "    return super(PipSession, self).request(method, url, *args, **kwargs)\n",
      "  File \"/home/gabriele/anaconda3/lib/python3.7/site-packages/pip/_vendor/requests/sessions.py\", line 508, in request\n",
      "    resp = self.send(prep, **send_kwargs)\n",
      "  File \"/home/gabriele/anaconda3/lib/python3.7/site-packages/pip/_vendor/requests/sessions.py\", line 618, in send\n",
      "    r = adapter.send(request, **kwargs)\n",
      "  File \"/home/gabriele/anaconda3/lib/python3.7/site-packages/pip/_vendor/cachecontrol/adapter.py\", line 54, in send\n",
      "    resp = super(CacheControlAdapter, self).send(request, **kw)\n",
      "  File \"/home/gabriele/anaconda3/lib/python3.7/site-packages/pip/_vendor/requests/adapters.py\", line 440, in send\n",
      "    timeout=timeout\n",
      "  File \"/home/gabriele/anaconda3/lib/python3.7/site-packages/pip/_vendor/urllib3/connectionpool.py\", line 601, in urlopen\n",
      "    chunked=chunked)\n",
      "  File \"/home/gabriele/anaconda3/lib/python3.7/site-packages/pip/_vendor/urllib3/connectionpool.py\", line 346, in _make_request\n",
      "    self._validate_conn(conn)\n",
      "  File \"/home/gabriele/anaconda3/lib/python3.7/site-packages/pip/_vendor/urllib3/connectionpool.py\", line 850, in _validate_conn\n",
      "    conn.connect()\n",
      "  File \"/home/gabriele/anaconda3/lib/python3.7/site-packages/pip/_vendor/urllib3/connection.py\", line 314, in connect\n",
      "    cert_reqs=resolve_cert_reqs(self.cert_reqs),\n",
      "  File \"/home/gabriele/anaconda3/lib/python3.7/site-packages/pip/_vendor/urllib3/util/ssl_.py\", line 274, in create_urllib3_context\n",
      "    context.verify_mode = cert_reqs\n",
      "  File \"/home/gabriele/anaconda3/lib/python3.7/site-packages/pip/_vendor/urllib3/contrib/pyopenssl.py\", line 400, in verify_mode\n",
      "    _verify_callback\n",
      "  File \"/home/gabriele/anaconda3/lib/python3.7/site-packages/OpenSSL/SSL.py\", line 1108, in set_verify\n",
      "    self._verify_helper = _VerifyHelper(callback)\n",
      "  File \"/home/gabriele/anaconda3/lib/python3.7/site-packages/OpenSSL/SSL.py\", line 333, in __init__\n",
      "    \"int (*)(int, X509_STORE_CTX *)\", wrapper)\n",
      "SystemError: ffi_prep_closure(): bad user_data (it seems that the version of the libffi library seen at runtime is different from the 'ffi.h' file seen at compile-time)\u001b[0m\n"
     ]
    }
   ],
   "source": [
    "!git clone https://github.com/qihongl/pylca\n",
    "!pip install pylca\n",
    "!rm -rf pylca"
   ]
  },
  {
   "cell_type": "code",
   "execution_count": 2,
   "metadata": {},
   "outputs": [
    {
     "ename": "ModuleNotFoundError",
     "evalue": "No module named 'pylca'",
     "output_type": "error",
     "traceback": [
      "\u001b[0;31m---------------------------------------------------------------------------\u001b[0m",
      "\u001b[0;31mModuleNotFoundError\u001b[0m                       Traceback (most recent call last)",
      "\u001b[0;32m<ipython-input-2-e72d7eec7cce>\u001b[0m in \u001b[0;36m<module>\u001b[0;34m()\u001b[0m\n\u001b[1;32m      6\u001b[0m \u001b[0;32mimport\u001b[0m \u001b[0mmatplotlib\u001b[0m\u001b[0;34m.\u001b[0m\u001b[0mpyplot\u001b[0m \u001b[0;32mas\u001b[0m \u001b[0mplt\u001b[0m\u001b[0;34m\u001b[0m\u001b[0m\n\u001b[1;32m      7\u001b[0m \u001b[0;32mimport\u001b[0m \u001b[0mseaborn\u001b[0m \u001b[0;32mas\u001b[0m \u001b[0msns\u001b[0m\u001b[0;34m\u001b[0m\u001b[0m\n\u001b[0;32m----> 8\u001b[0;31m \u001b[0;32mfrom\u001b[0m \u001b[0mpylca\u001b[0m \u001b[0;32mimport\u001b[0m \u001b[0mLCA\u001b[0m\u001b[0;34m\u001b[0m\u001b[0m\n\u001b[0m",
      "\u001b[0;31mModuleNotFoundError\u001b[0m: No module named 'pylca'"
     ]
    }
   ],
   "source": [
    "\"\"\"\n",
    "LCA, demonstrate the effect of competition\n",
    "\"\"\"\n",
    "import numpy as np\n",
    "import pandas as pd\n",
    "import matplotlib.pyplot as plt\n",
    "import seaborn as sns\n",
    "from pylca import LCA"
   ]
  },
  {
   "cell_type": "code",
   "execution_count": null,
   "metadata": {},
   "outputs": [],
   "source": [
    "def attentional_selection(weights, attention=None):\n",
    "    assert weights[weights<=1].all(), \"weights have to be in interval [0, 1]\"\n",
    "    assert weights[weights>=0].all(), \"weights have to be in interval [0, 1]\"\n",
    "    dims, _ = weights.shape\n",
    "\n",
    "    # randomly select dimension to focus on\n",
    "    focus = np.random.choice(dims, p=attention)\n",
    "    # get the weights corresponding to that focus\n",
    "    weight = weights[focus,:]\n",
    "    return weight\n",
    "\n",
    "def plot_dimensions(weights):\n",
    "    n_dims, n_units = weights.shape\n",
    "    columns = [f\"dimension {i}\" for i in range(1, n_dims+1)]\n",
    "    df = pd.DataFrame(\n",
    "        data=weights.T,\n",
    "        columns=columns\n",
    "    )\n",
    "    df_names = pd.DataFrame(\n",
    "        data=[f\"unit {i}\" for i in range(1, n_units+1)],\n",
    "        columns=[\"unit\"]\n",
    "    )\n",
    "    df = pd.concat([df, df_names], axis=1)\n",
    "\n",
    "    # plot\n",
    "    g = sns.PairGrid(df, x_vars=columns[1:], y_vars=columns[:-1], hue=\"unit\", height=1.1*max(n_dims, n_units))\n",
    "    g.map(sns.scatterplot)\n",
    "    g.set(xticks=np.arange(0, 1.1, 0.1), yticks=np.arange(0, 1.1, 0.1))\n",
    "    g.add_legend(title=\"\")\n",
    "    plt.show()"
   ]
  },
  {
   "cell_type": "code",
   "execution_count": null,
   "metadata": {},
   "outputs": [],
   "source": [
    "# generate attention switches\n",
    "weights = np.array([\n",
    "    # unit 1  |  unit 2  | unit 3\n",
    "    [0.1,        0.8,       0.45], # dim 1\n",
    "    [0.8,        0.1,       0.45],  # dim 2\n",
    "    [0.2,        0.2,       0.3]  # dim 3\n",
    "])\n",
    "\n",
    "# make inputs: \n",
    "T = 100 # nr. time steps\n",
    "input_sequences = [\n",
    "    [attentional_selection(weights) for _ in range(T)] for _ in range(3)\n",
    "]"
   ]
  },
  {
   "cell_type": "code",
   "execution_count": null,
   "metadata": {},
   "outputs": [],
   "source": [
    "\"\"\"model params\n",
    "\"\"\"\n",
    "n_dims, n_units = weights.shape\n",
    "# input weights\n",
    "w_input = 1\n",
    "# decision param\n",
    "leak = .1\n",
    "competition = 1\n",
    "self_excit = 0\n",
    "# time step size\n",
    "dt = .2\n",
    "# other params\n",
    "self_excit = 0\n",
    "w_cross = 0\n",
    "offset = 0\n",
    "noise_sd = .1"
   ]
  },
  {
   "cell_type": "code",
   "execution_count": null,
   "metadata": {},
   "outputs": [],
   "source": [
    "# init LCA\n",
    "lca = LCA(\n",
    "    n_units, dt, leak, competition,\n",
    "    self_excit=self_excit, w_input=w_input, w_cross=w_cross,\n",
    "    offset=offset, noise_sd=noise_sd,\n",
    ")\n",
    "\n",
    "\"\"\"run LCA\n",
    "\"\"\"\n",
    "# run LCA for all input patterns\n",
    "vals = []\n",
    "for input_sequence in input_sequences:\n",
    "    vals.append(lca.run(input_sequence))"
   ]
  },
  {
   "cell_type": "code",
   "execution_count": null,
   "metadata": {},
   "outputs": [],
   "source": [
    "\"\"\"plot\n",
    "if more units are activated, they compete and inhibit each other,\n",
    "as a result, the uncertainty of the system is larger\n",
    "\"\"\"\n",
    "\n",
    "n_sims = len(input_sequences)\n",
    "\n",
    "f, axes = plt.subplots(n_sims, figsize=(12, 12), sharex=True, squeeze=False)\n",
    "f.tight_layout()\n",
    "for i, ax in enumerate(axes[:,0]):\n",
    "    for unit in range(n_units):\n",
    "        ax.plot(vals[i][:,unit], label=f\"unit {unit+1}\")\n",
    "    ax.set_title('Title')\n",
    "    ax.set_ylabel('LCA activity')\n",
    "    ax.set_xlabel('Time')\n",
    "    ax.set_ylim([-.05, 1.05])\n",
    "    ax.axhline(0, linestyle='--', color='grey')\n",
    "    ax.legend()\n",
    "f.tight_layout()\n",
    "sns.despine()"
   ]
  },
  {
   "cell_type": "code",
   "execution_count": null,
   "metadata": {},
   "outputs": [],
   "source": [
    "plot_dimensions(weights)"
   ]
  },
  {
   "cell_type": "code",
   "execution_count": null,
   "metadata": {},
   "outputs": [],
   "source": []
  },
  {
   "cell_type": "code",
   "execution_count": null,
   "metadata": {},
   "outputs": [],
   "source": []
  },
  {
   "cell_type": "code",
   "execution_count": null,
   "metadata": {},
   "outputs": [],
   "source": []
  },
  {
   "cell_type": "code",
   "execution_count": null,
   "metadata": {},
   "outputs": [],
   "source": []
  },
  {
   "cell_type": "code",
   "execution_count": null,
   "metadata": {},
   "outputs": [],
   "source": []
  },
  {
   "cell_type": "code",
   "execution_count": null,
   "metadata": {},
   "outputs": [],
   "source": []
  },
  {
   "cell_type": "code",
   "execution_count": null,
   "metadata": {},
   "outputs": [],
   "source": []
  }
 ],
 "metadata": {
  "kernelspec": {
   "display_name": "Python 3 (ipykernel)",
   "language": "python",
   "name": "python3"
  },
  "language_info": {
   "codemirror_mode": {
    "name": "ipython",
    "version": 3
   },
   "file_extension": ".py",
   "mimetype": "text/x-python",
   "name": "python",
   "nbconvert_exporter": "python",
   "pygments_lexer": "ipython3",
   "version": "3.7.0"
  },
  "toc": {
   "base_numbering": 1,
   "nav_menu": {},
   "number_sections": true,
   "sideBar": true,
   "skip_h1_title": false,
   "title_cell": "Table of Contents",
   "title_sidebar": "Contents",
   "toc_cell": false,
   "toc_position": {},
   "toc_section_display": true,
   "toc_window_display": false
  },
  "vscode": {
   "interpreter": {
    "hash": "3b33241731a5a8c07a615c6e7037366b97f07aafc089ff206321e8172eaed95f"
   }
  }
 },
 "nbformat": 4,
 "nbformat_minor": 2
}
