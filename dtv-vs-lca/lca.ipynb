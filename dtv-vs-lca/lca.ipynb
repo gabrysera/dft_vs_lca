{
 "cells": [
  {
   "cell_type": "code",
   "execution_count": 2,
   "metadata": {},
   "outputs": [
    {
     "ename": "ModuleNotFoundError",
     "evalue": "No module named 'pylca'",
     "output_type": "error",
     "traceback": [
      "\u001b[0;31m---------------------------------------------------------------------------\u001b[0m",
      "\u001b[0;31mModuleNotFoundError\u001b[0m                       Traceback (most recent call last)",
      "\u001b[0;32m<ipython-input-2-e72d7eec7cce>\u001b[0m in \u001b[0;36m<module>\u001b[0;34m()\u001b[0m\n\u001b[1;32m      6\u001b[0m \u001b[0;32mimport\u001b[0m \u001b[0mmatplotlib\u001b[0m\u001b[0;34m.\u001b[0m\u001b[0mpyplot\u001b[0m \u001b[0;32mas\u001b[0m \u001b[0mplt\u001b[0m\u001b[0;34m\u001b[0m\u001b[0m\n\u001b[1;32m      7\u001b[0m \u001b[0;32mimport\u001b[0m \u001b[0mseaborn\u001b[0m \u001b[0;32mas\u001b[0m \u001b[0msns\u001b[0m\u001b[0;34m\u001b[0m\u001b[0m\n\u001b[0;32m----> 8\u001b[0;31m \u001b[0;32mfrom\u001b[0m \u001b[0mpylca\u001b[0m \u001b[0;32mimport\u001b[0m \u001b[0mLCA\u001b[0m\u001b[0;34m\u001b[0m\u001b[0m\n\u001b[0m",
      "\u001b[0;31mModuleNotFoundError\u001b[0m: No module named 'pylca'"
     ]
    }
   ],
   "source": [
    "\"\"\"\n",
    "LCA, demonstrate the effect of competition\n",
    "\"\"\"\n",
    "import numpy as np\n",
    "import pandas as pd\n",
    "import matplotlib.pyplot as plt\n",
    "import seaborn as sns\n",
    "from pylca import LCA"
   ]
  },
  {
   "cell_type": "code",
   "execution_count": null,
   "metadata": {},
   "outputs": [],
   "source": [
    "def attentional_selection(weights, attention=None):\n",
    "    assert weights[weights<=1].all(), \"weights have to be in interval [0, 1]\"\n",
    "    assert weights[weights>=0].all(), \"weights have to be in interval [0, 1]\"\n",
    "    dims, _ = weights.shape\n",
    "\n",
    "    # randomly select dimension to focus on\n",
    "    focus = np.random.choice(dims, p=attention)\n",
    "    # get the weights corresponding to that focus\n",
    "    weight = weights[focus,:]\n",
    "    return weight\n",
    "\n",
    "def plot_dimensions(weights):\n",
    "    n_dims, n_units = weights.shape\n",
    "    columns = [f\"dimension {i}\" for i in range(1, n_dims+1)]\n",
    "    df = pd.DataFrame(\n",
    "        data=weights.T,\n",
    "        columns=columns\n",
    "    )\n",
    "    df_names = pd.DataFrame(\n",
    "        data=[f\"unit {i}\" for i in range(1, n_units+1)],\n",
    "        columns=[\"unit\"]\n",
    "    )\n",
    "    df = pd.concat([df, df_names], axis=1)\n",
    "\n",
    "    # plot\n",
    "    g = sns.PairGrid(df, x_vars=columns[1:], y_vars=columns[:-1], hue=\"unit\", height=1.1*max(n_dims, n_units))\n",
    "    g.map(sns.scatterplot)\n",
    "    g.set(xticks=np.arange(0, 1.1, 0.1), yticks=np.arange(0, 1.1, 0.1))\n",
    "    g.add_legend(title=\"\")\n",
    "    plt.show()"
   ]
  },
  {
   "cell_type": "code",
   "execution_count": null,
   "metadata": {},
   "outputs": [],
   "source": [
    "# generate attention switches\n",
    "weights = np.array([\n",
    "    # unit 1  |  unit 2  | unit 3\n",
    "    [0.1,        0.8,       0.45], # dim 1\n",
    "    [0.8,        0.1,       0.45],  # dim 2\n",
    "    [0.2,        0.2,       0.3]  # dim 3\n",
    "])\n",
    "\n",
    "# make inputs: \n",
    "T = 100 # nr. time steps\n",
    "input_sequences = [\n",
    "    [attentional_selection(weights) for _ in range(T)] for _ in range(3)\n",
    "]"
   ]
  },
  {
   "cell_type": "code",
   "execution_count": null,
   "metadata": {},
   "outputs": [],
   "source": [
    "\"\"\"model params\n",
    "\"\"\"\n",
    "n_dims, n_units = weights.shape\n",
    "# input weights\n",
    "w_input = 1\n",
    "# decision param\n",
    "leak = .1\n",
    "competition = 1\n",
    "self_excit = 0\n",
    "# time step size\n",
    "dt = .2\n",
    "# other params\n",
    "self_excit = 0\n",
    "w_cross = 0\n",
    "offset = 0\n",
    "noise_sd = .1"
   ]
  },
  {
   "cell_type": "code",
   "execution_count": null,
   "metadata": {},
   "outputs": [],
   "source": [
    "# init LCA\n",
    "lca = LCA(\n",
    "    n_units, dt, leak, competition,\n",
    "    self_excit=self_excit, w_input=w_input, w_cross=w_cross,\n",
    "    offset=offset, noise_sd=noise_sd,\n",
    ")\n",
    "\n",
    "\"\"\"run LCA\n",
    "\"\"\"\n",
    "# run LCA for all input patterns\n",
    "vals = []\n",
    "for input_sequence in input_sequences:\n",
    "    vals.append(lca.run(input_sequence))"
   ]
  },
  {
   "cell_type": "code",
   "execution_count": null,
   "metadata": {},
   "outputs": [],
   "source": [
    "\"\"\"plot\n",
    "if more units are activated, they compete and inhibit each other,\n",
    "as a result, the uncertainty of the system is larger\n",
    "\"\"\"\n",
    "\n",
    "n_sims = len(input_sequences)\n",
    "\n",
    "f, axes = plt.subplots(n_sims, figsize=(12, 12), sharex=True, squeeze=False)\n",
    "f.tight_layout()\n",
    "for i, ax in enumerate(axes[:,0]):\n",
    "    for unit in range(n_units):\n",
    "        ax.plot(vals[i][:,unit], label=f\"unit {unit+1}\")\n",
    "    ax.set_title('Title')\n",
    "    ax.set_ylabel('LCA activity')\n",
    "    ax.set_xlabel('Time')\n",
    "    ax.set_ylim([-.05, 1.05])\n",
    "    ax.axhline(0, linestyle='--', color='grey')\n",
    "    ax.legend()\n",
    "f.tight_layout()\n",
    "sns.despine()"
   ]
  },
  {
   "cell_type": "code",
   "execution_count": null,
   "metadata": {},
   "outputs": [],
   "source": [
    "plot_dimensions(weights)"
   ]
  },
  {
   "cell_type": "code",
   "execution_count": null,
   "metadata": {},
   "outputs": [],
   "source": []
  },
  {
   "cell_type": "code",
   "execution_count": null,
   "metadata": {},
   "outputs": [],
   "source": []
  },
  {
   "cell_type": "code",
   "execution_count": null,
   "metadata": {},
   "outputs": [],
   "source": []
  },
  {
   "cell_type": "code",
   "execution_count": null,
   "metadata": {},
   "outputs": [],
   "source": []
  },
  {
   "cell_type": "code",
   "execution_count": null,
   "metadata": {},
   "outputs": [],
   "source": []
  },
  {
   "cell_type": "code",
   "execution_count": null,
   "metadata": {},
   "outputs": [],
   "source": []
  },
  {
   "cell_type": "code",
   "execution_count": null,
   "metadata": {},
   "outputs": [],
   "source": []
  }
 ],
 "metadata": {
  "kernelspec": {
   "display_name": "Python 3 (ipykernel)",
   "language": "python",
   "name": "python3"
  },
  "language_info": {
   "codemirror_mode": {
    "name": "ipython",
    "version": 3
   },
   "file_extension": ".py",
   "mimetype": "text/x-python",
   "name": "python",
   "nbconvert_exporter": "python",
   "pygments_lexer": "ipython3",
   "version": "3.7.0"
  },
  "toc": {
   "base_numbering": 1,
   "nav_menu": {},
   "number_sections": true,
   "sideBar": true,
   "skip_h1_title": false,
   "title_cell": "Table of Contents",
   "title_sidebar": "Contents",
   "toc_cell": false,
   "toc_position": {},
   "toc_section_display": true,
   "toc_window_display": false
  },
  "vscode": {
   "interpreter": {
    "hash": "3b33241731a5a8c07a615c6e7037366b97f07aafc089ff206321e8172eaed95f"
   }
  }
 },
 "nbformat": 4,
 "nbformat_minor": 2
}
